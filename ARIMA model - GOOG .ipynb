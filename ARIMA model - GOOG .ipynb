{
 "cells": [
  {
   "cell_type": "code",
   "execution_count": 43,
   "id": "c4e0b2df",
   "metadata": {},
   "outputs": [],
   "source": [
    "### In front of the coding, I want to say this is just a replication of my one-year before code. When I tried to use ARIMA model to modedl\n",
    "### financial data, I don't know much behind the statistical theorem. Now after one year learning, I got to say ARIMA model is too simple to model any\n",
    "### stock data. Time series is good, but stock is more beyond time. "
   ]
  },
  {
   "cell_type": "code",
   "execution_count": 2,
   "id": "3630ff34",
   "metadata": {},
   "outputs": [],
   "source": [
    "import numpy as np\n",
    "import pandas as pd\n",
    "import matplotlib.pylab as plt\n",
    "import statsmodels.api as sm\n",
    "import warnings\n",
    "warnings.filterwarnings(\"ignore\")"
   ]
  },
  {
   "cell_type": "code",
   "execution_count": 3,
   "id": "8d56c12d",
   "metadata": {},
   "outputs": [
    {
     "data": {
      "text/html": [
       "<div>\n",
       "<style scoped>\n",
       "    .dataframe tbody tr th:only-of-type {\n",
       "        vertical-align: middle;\n",
       "    }\n",
       "\n",
       "    .dataframe tbody tr th {\n",
       "        vertical-align: top;\n",
       "    }\n",
       "\n",
       "    .dataframe thead th {\n",
       "        text-align: right;\n",
       "    }\n",
       "</style>\n",
       "<table border=\"1\" class=\"dataframe\">\n",
       "  <thead>\n",
       "    <tr style=\"text-align: right;\">\n",
       "      <th></th>\n",
       "      <th>Open</th>\n",
       "      <th>High</th>\n",
       "      <th>Low</th>\n",
       "      <th>Close</th>\n",
       "      <th>Adj Close</th>\n",
       "      <th>Volume</th>\n",
       "    </tr>\n",
       "    <tr>\n",
       "      <th>Date</th>\n",
       "      <th></th>\n",
       "      <th></th>\n",
       "      <th></th>\n",
       "      <th></th>\n",
       "      <th></th>\n",
       "      <th></th>\n",
       "    </tr>\n",
       "  </thead>\n",
       "  <tbody>\n",
       "    <tr>\n",
       "      <th>2017-02-02</th>\n",
       "      <td>39.689999</td>\n",
       "      <td>40.134998</td>\n",
       "      <td>39.599998</td>\n",
       "      <td>39.926498</td>\n",
       "      <td>39.926498</td>\n",
       "      <td>30642000</td>\n",
       "    </tr>\n",
       "    <tr>\n",
       "      <th>2017-02-03</th>\n",
       "      <td>40.149502</td>\n",
       "      <td>40.299999</td>\n",
       "      <td>40.018501</td>\n",
       "      <td>40.074501</td>\n",
       "      <td>40.074501</td>\n",
       "      <td>29268000</td>\n",
       "    </tr>\n",
       "    <tr>\n",
       "      <th>2017-02-06</th>\n",
       "      <td>39.985001</td>\n",
       "      <td>40.083500</td>\n",
       "      <td>39.762501</td>\n",
       "      <td>40.067001</td>\n",
       "      <td>40.067001</td>\n",
       "      <td>23690000</td>\n",
       "    </tr>\n",
       "    <tr>\n",
       "      <th>2017-02-07</th>\n",
       "      <td>40.199501</td>\n",
       "      <td>40.525002</td>\n",
       "      <td>40.089001</td>\n",
       "      <td>40.348499</td>\n",
       "      <td>40.348499</td>\n",
       "      <td>24824000</td>\n",
       "    </tr>\n",
       "    <tr>\n",
       "      <th>2017-02-08</th>\n",
       "      <td>40.349998</td>\n",
       "      <td>40.591999</td>\n",
       "      <td>40.159500</td>\n",
       "      <td>40.418999</td>\n",
       "      <td>40.418999</td>\n",
       "      <td>23106000</td>\n",
       "    </tr>\n",
       "    <tr>\n",
       "      <th>...</th>\n",
       "      <td>...</td>\n",
       "      <td>...</td>\n",
       "      <td>...</td>\n",
       "      <td>...</td>\n",
       "      <td>...</td>\n",
       "      <td>...</td>\n",
       "    </tr>\n",
       "    <tr>\n",
       "      <th>2022-07-20</th>\n",
       "      <td>114.059998</td>\n",
       "      <td>116.330002</td>\n",
       "      <td>113.260002</td>\n",
       "      <td>114.699997</td>\n",
       "      <td>114.699997</td>\n",
       "      <td>26780100</td>\n",
       "    </tr>\n",
       "    <tr>\n",
       "      <th>2022-07-21</th>\n",
       "      <td>115.089996</td>\n",
       "      <td>115.209999</td>\n",
       "      <td>111.910004</td>\n",
       "      <td>115.040001</td>\n",
       "      <td>115.040001</td>\n",
       "      <td>27267800</td>\n",
       "    </tr>\n",
       "    <tr>\n",
       "      <th>2022-07-22</th>\n",
       "      <td>111.809998</td>\n",
       "      <td>113.180000</td>\n",
       "      <td>107.599998</td>\n",
       "      <td>108.360001</td>\n",
       "      <td>108.360001</td>\n",
       "      <td>44404100</td>\n",
       "    </tr>\n",
       "    <tr>\n",
       "      <th>2022-07-25</th>\n",
       "      <td>108.879997</td>\n",
       "      <td>110.580002</td>\n",
       "      <td>107.010002</td>\n",
       "      <td>108.209999</td>\n",
       "      <td>108.209999</td>\n",
       "      <td>28289900</td>\n",
       "    </tr>\n",
       "    <tr>\n",
       "      <th>2022-07-26</th>\n",
       "      <td>107.430000</td>\n",
       "      <td>107.739998</td>\n",
       "      <td>104.760002</td>\n",
       "      <td>105.440002</td>\n",
       "      <td>105.440002</td>\n",
       "      <td>36147900</td>\n",
       "    </tr>\n",
       "  </tbody>\n",
       "</table>\n",
       "<p>1379 rows × 6 columns</p>\n",
       "</div>"
      ],
      "text/plain": [
       "                  Open        High         Low       Close   Adj Close  \\\n",
       "Date                                                                     \n",
       "2017-02-02   39.689999   40.134998   39.599998   39.926498   39.926498   \n",
       "2017-02-03   40.149502   40.299999   40.018501   40.074501   40.074501   \n",
       "2017-02-06   39.985001   40.083500   39.762501   40.067001   40.067001   \n",
       "2017-02-07   40.199501   40.525002   40.089001   40.348499   40.348499   \n",
       "2017-02-08   40.349998   40.591999   40.159500   40.418999   40.418999   \n",
       "...                ...         ...         ...         ...         ...   \n",
       "2022-07-20  114.059998  116.330002  113.260002  114.699997  114.699997   \n",
       "2022-07-21  115.089996  115.209999  111.910004  115.040001  115.040001   \n",
       "2022-07-22  111.809998  113.180000  107.599998  108.360001  108.360001   \n",
       "2022-07-25  108.879997  110.580002  107.010002  108.209999  108.209999   \n",
       "2022-07-26  107.430000  107.739998  104.760002  105.440002  105.440002   \n",
       "\n",
       "              Volume  \n",
       "Date                  \n",
       "2017-02-02  30642000  \n",
       "2017-02-03  29268000  \n",
       "2017-02-06  23690000  \n",
       "2017-02-07  24824000  \n",
       "2017-02-08  23106000  \n",
       "...              ...  \n",
       "2022-07-20  26780100  \n",
       "2022-07-21  27267800  \n",
       "2022-07-22  44404100  \n",
       "2022-07-25  28289900  \n",
       "2022-07-26  36147900  \n",
       "\n",
       "[1379 rows x 6 columns]"
      ]
     },
     "execution_count": 3,
     "metadata": {},
     "output_type": "execute_result"
    }
   ],
   "source": [
    "df=pd.read_csv('GOOG.csv',encoding='utf-8',index_col='Date')\n",
    "df"
   ]
  },
  {
   "cell_type": "code",
   "execution_count": 4,
   "id": "42b970f3",
   "metadata": {},
   "outputs": [
    {
     "data": {
      "text/plain": [
       "Date\n",
       "2017-02-02     39.689999\n",
       "2017-02-03     40.149502\n",
       "2017-02-06     39.985001\n",
       "2017-02-07     40.199501\n",
       "2017-02-08     40.349998\n",
       "                 ...    \n",
       "2022-07-20    114.059998\n",
       "2022-07-21    115.089996\n",
       "2022-07-22    111.809998\n",
       "2022-07-25    108.879997\n",
       "2022-07-26    107.430000\n",
       "Name: Open, Length: 1379, dtype: float64"
      ]
     },
     "execution_count": 4,
     "metadata": {},
     "output_type": "execute_result"
    }
   ],
   "source": [
    "from datetime import datetime\n",
    "df.index=pd.to_datetime(df.index)\n",
    "GOOG_price=df['Open']\n",
    "pd.to_numeric(GOOG_price)"
   ]
  },
  {
   "cell_type": "code",
   "execution_count": 5,
   "id": "d804d225",
   "metadata": {},
   "outputs": [],
   "source": [
    "## we need to do the differencing about the price first to make it stationary"
   ]
  },
  {
   "cell_type": "code",
   "execution_count": 6,
   "id": "d37a647d",
   "metadata": {},
   "outputs": [
    {
     "name": "stdout",
     "output_type": "stream",
     "text": [
      "(-39.02951165981329, 0.0, 0, 1377, {'1%': -3.4351078301822016, '5%': -2.8636412316027577, '10%': -2.5678886927682663}, 5049.996948146581)\n"
     ]
    }
   ],
   "source": [
    "from statsmodels.tsa.stattools import adfuller\n",
    "stock_differencing= GOOG_price.diff().dropna()\n",
    "result = adfuller(stock_differencing)\n",
    "print(result) ##it is more negative than the critical value"
   ]
  },
  {
   "cell_type": "code",
   "execution_count": 7,
   "id": "96758cb3",
   "metadata": {},
   "outputs": [
    {
     "data": {
      "image/png": "[encoded data removed]",
      "text/plain": [
       "<Figure size 432x288 with 1 Axes>"
      ]
     },
     "metadata": {
      "needs_background": "light"
     },
     "output_type": "display_data"
    }
   ],
   "source": [
    "plt.rcParams['axes.unicode_minus'] = False \n",
    "plt.xticks(rotation=45)\n",
    "plt.xlabel('Date') \n",
    "plt.ylabel('Open_DF')\n",
    "stock_differencing.plot()\n",
    "plt.show() "
   ]
  },
  {
   "cell_type": "code",
   "execution_count": 8,
   "id": "a045189b",
   "metadata": {},
   "outputs": [
    {
     "data": {
      "text/plain": [
       "array([0.05588667, 0.15737009, 0.12589777, 0.08606634, 0.08232265,\n",
       "       0.06911251, 0.10573356, 0.12017493, 0.1201711 , 0.05880722,\n",
       "       0.08395438, 0.0627822 , 0.08748834, 0.09249532, 0.11550776,\n",
       "       0.1305426 , 0.15250389, 0.17219678, 0.2082671 ])"
      ]
     },
     "execution_count": 8,
     "metadata": {},
     "output_type": "execute_result"
    }
   ],
   "source": [
    "from statsmodels.tsa import stattools\n",
    "LjungBox=stattools.q_stat(stattools.acf(stock_differencing)[1:20],len(stock_differencing))[1]\n",
    "LjungBox ##past the test"
   ]
  },
  {
   "cell_type": "code",
   "execution_count": 9,
   "id": "084ae6c8",
   "metadata": {},
   "outputs": [],
   "source": [
    "## to decide the parameter of ARIMA using ACF and PACF"
   ]
  },
  {
   "cell_type": "code",
   "execution_count": 10,
   "id": "0235c6c1",
   "metadata": {},
   "outputs": [
    {
     "data": {
      "image/png": "[encoded data removed]",
      "text/plain": [
       "<Figure size 432x288 with 1 Axes>"
      ]
     },
     "metadata": {
      "needs_background": "light"
     },
     "output_type": "display_data"
    }
   ],
   "source": [
    "from statsmodels.graphics.tsaplots import plot_acf, plot_pacf \n",
    "plot_acf(stock_differencing,use_vlines=True,lags=30) \n",
    "plt.show()"
   ]
  },
  {
   "cell_type": "code",
   "execution_count": 11,
   "id": "a38d59e5",
   "metadata": {},
   "outputs": [
    {
     "data": {
      "image/png": "[encoded data removed]",
      "text/plain": [
       "<Figure size 432x288 with 1 Axes>"
      ]
     },
     "metadata": {
      "needs_background": "light"
     },
     "output_type": "display_data"
    }
   ],
   "source": [
    "plot_pacf(stock_differencing,use_vlines=True,lags=30) \n",
    "plt.show()"
   ]
  },
  {
   "cell_type": "code",
   "execution_count": 12,
   "id": "c46c8aad",
   "metadata": {},
   "outputs": [],
   "source": [
    "##from the acf and pacf we can chose arima(3,1,3)， the aic is smallest"
   ]
  },
  {
   "cell_type": "code",
   "execution_count": 13,
   "id": "afb0f685",
   "metadata": {},
   "outputs": [
    {
     "data": {
      "text/html": [
       "<table class=\"simpletable\">\n",
       "<caption>SARIMAX Results</caption>\n",
       "<tr>\n",
       "  <th>Dep. Variable:</th>         <td>Open</td>       <th>  No. Observations:  </th>   <td>1379</td>   \n",
       "</tr>\n",
       "<tr>\n",
       "  <th>Model:</th>            <td>ARIMA(3, 1, 3)</td>  <th>  Log Likelihood     </th> <td>-2551.706</td>\n",
       "</tr>\n",
       "<tr>\n",
       "  <th>Date:</th>            <td>Thu, 28 Jul 2022</td> <th>  AIC                </th> <td>5117.412</td> \n",
       "</tr>\n",
       "<tr>\n",
       "  <th>Time:</th>                <td>00:04:41</td>     <th>  BIC                </th> <td>5154.011</td> \n",
       "</tr>\n",
       "<tr>\n",
       "  <th>Sample:</th>                  <td>0</td>        <th>  HQIC               </th> <td>5131.104</td> \n",
       "</tr>\n",
       "<tr>\n",
       "  <th></th>                      <td> - 1379</td>     <th>                     </th>     <td> </td>    \n",
       "</tr>\n",
       "<tr>\n",
       "  <th>Covariance Type:</th>        <td>opg</td>       <th>                     </th>     <td> </td>    \n",
       "</tr>\n",
       "</table>\n",
       "<table class=\"simpletable\">\n",
       "<tr>\n",
       "     <td></td>       <th>coef</th>     <th>std err</th>      <th>z</th>      <th>P>|z|</th>  <th>[0.025</th>    <th>0.975]</th>  \n",
       "</tr>\n",
       "<tr>\n",
       "  <th>ar.L1</th>  <td>    1.3389</td> <td>    0.420</td> <td>    3.187</td> <td> 0.001</td> <td>    0.516</td> <td>    2.162</td>\n",
       "</tr>\n",
       "<tr>\n",
       "  <th>ar.L2</th>  <td>    0.0251</td> <td>    0.765</td> <td>    0.033</td> <td> 0.974</td> <td>   -1.474</td> <td>    1.524</td>\n",
       "</tr>\n",
       "<tr>\n",
       "  <th>ar.L3</th>  <td>   -0.4816</td> <td>    0.378</td> <td>   -1.274</td> <td> 0.203</td> <td>   -1.222</td> <td>    0.259</td>\n",
       "</tr>\n",
       "<tr>\n",
       "  <th>ma.L1</th>  <td>   -1.4038</td> <td>    0.425</td> <td>   -3.303</td> <td> 0.001</td> <td>   -2.237</td> <td>   -0.571</td>\n",
       "</tr>\n",
       "<tr>\n",
       "  <th>ma.L2</th>  <td>    0.0454</td> <td>    0.794</td> <td>    0.057</td> <td> 0.954</td> <td>   -1.510</td> <td>    1.601</td>\n",
       "</tr>\n",
       "<tr>\n",
       "  <th>ma.L3</th>  <td>    0.4673</td> <td>    0.400</td> <td>    1.169</td> <td> 0.242</td> <td>   -0.316</td> <td>    1.251</td>\n",
       "</tr>\n",
       "<tr>\n",
       "  <th>sigma2</th> <td>    2.3753</td> <td>    0.041</td> <td>   57.358</td> <td> 0.000</td> <td>    2.294</td> <td>    2.456</td>\n",
       "</tr>\n",
       "</table>\n",
       "<table class=\"simpletable\">\n",
       "<tr>\n",
       "  <th>Ljung-Box (L1) (Q):</th>     <td>0.03</td> <th>  Jarque-Bera (JB):  </th> <td>4812.41</td>\n",
       "</tr>\n",
       "<tr>\n",
       "  <th>Prob(Q):</th>                <td>0.86</td> <th>  Prob(JB):          </th>  <td>0.00</td>  \n",
       "</tr>\n",
       "<tr>\n",
       "  <th>Heteroskedasticity (H):</th> <td>7.70</td> <th>  Skew:              </th>  <td>0.25</td>  \n",
       "</tr>\n",
       "<tr>\n",
       "  <th>Prob(H) (two-sided):</th>    <td>0.00</td> <th>  Kurtosis:          </th>  <td>12.14</td> \n",
       "</tr>\n",
       "</table><br/><br/>Warnings:<br/>[1] Covariance matrix calculated using the outer product of gradients (complex-step)."
      ],
      "text/plain": [
       "<class 'statsmodels.iolib.summary.Summary'>\n",
       "\"\"\"\n",
       "                               SARIMAX Results                                \n",
       "==============================================================================\n",
       "Dep. Variable:                   Open   No. Observations:                 1379\n",
       "Model:                 ARIMA(3, 1, 3)   Log Likelihood               -2551.706\n",
       "Date:                Thu, 28 Jul 2022   AIC                           5117.412\n",
       "Time:                        00:04:41   BIC                           5154.011\n",
       "Sample:                             0   HQIC                          5131.104\n",
       "                               - 1379                                         \n",
       "Covariance Type:                  opg                                         \n",
       "==============================================================================\n",
       "                 coef    std err          z      P>|z|      [0.025      0.975]\n",
       "------------------------------------------------------------------------------\n",
       "ar.L1          1.3389      0.420      3.187      0.001       0.516       2.162\n",
       "ar.L2          0.0251      0.765      0.033      0.974      -1.474       1.524\n",
       "ar.L3         -0.4816      0.378     -1.274      0.203      -1.222       0.259\n",
       "ma.L1         -1.4038      0.425     -3.303      0.001      -2.237      -0.571\n",
       "ma.L2          0.0454      0.794      0.057      0.954      -1.510       1.601\n",
       "ma.L3          0.4673      0.400      1.169      0.242      -0.316       1.251\n",
       "sigma2         2.3753      0.041     57.358      0.000       2.294       2.456\n",
       "===================================================================================\n",
       "Ljung-Box (L1) (Q):                   0.03   Jarque-Bera (JB):              4812.41\n",
       "Prob(Q):                              0.86   Prob(JB):                         0.00\n",
       "Heteroskedasticity (H):               7.70   Skew:                             0.25\n",
       "Prob(H) (two-sided):                  0.00   Kurtosis:                        12.14\n",
       "===================================================================================\n",
       "\n",
       "Warnings:\n",
       "[1] Covariance matrix calculated using the outer product of gradients (complex-step).\n",
       "\"\"\""
      ]
     },
     "execution_count": 13,
     "metadata": {},
     "output_type": "execute_result"
    }
   ],
   "source": [
    "from statsmodels.tsa.arima.model import ARIMA\n",
    "model = ARIMA(GOOG_price,order=(3,1,3)).fit()\n",
    "model.summary()\n"
   ]
  },
  {
   "cell_type": "code",
   "execution_count": 14,
   "id": "2b6ae03f",
   "metadata": {},
   "outputs": [
    {
     "data": {
      "text/html": [
       "<div>\n",
       "<style scoped>\n",
       "    .dataframe tbody tr th:only-of-type {\n",
       "        vertical-align: middle;\n",
       "    }\n",
       "\n",
       "    .dataframe tbody tr th {\n",
       "        vertical-align: top;\n",
       "    }\n",
       "\n",
       "    .dataframe thead th {\n",
       "        text-align: right;\n",
       "    }\n",
       "</style>\n",
       "<table border=\"1\" class=\"dataframe\">\n",
       "  <thead>\n",
       "    <tr style=\"text-align: right;\">\n",
       "      <th></th>\n",
       "      <th>0</th>\n",
       "      <th>1</th>\n",
       "    </tr>\n",
       "  </thead>\n",
       "  <tbody>\n",
       "    <tr>\n",
       "      <th>ar.L1</th>\n",
       "      <td>0.515568</td>\n",
       "      <td>2.162200</td>\n",
       "    </tr>\n",
       "    <tr>\n",
       "      <th>ar.L2</th>\n",
       "      <td>-1.473510</td>\n",
       "      <td>1.523750</td>\n",
       "    </tr>\n",
       "    <tr>\n",
       "      <th>ar.L3</th>\n",
       "      <td>-1.222238</td>\n",
       "      <td>0.259056</td>\n",
       "    </tr>\n",
       "    <tr>\n",
       "      <th>ma.L1</th>\n",
       "      <td>-2.236865</td>\n",
       "      <td>-0.570667</td>\n",
       "    </tr>\n",
       "    <tr>\n",
       "      <th>ma.L2</th>\n",
       "      <td>-1.509877</td>\n",
       "      <td>1.600617</td>\n",
       "    </tr>\n",
       "    <tr>\n",
       "      <th>ma.L3</th>\n",
       "      <td>-0.316259</td>\n",
       "      <td>1.250859</td>\n",
       "    </tr>\n",
       "    <tr>\n",
       "      <th>sigma2</th>\n",
       "      <td>2.294131</td>\n",
       "      <td>2.456462</td>\n",
       "    </tr>\n",
       "  </tbody>\n",
       "</table>\n",
       "</div>"
      ],
      "text/plain": [
       "               0         1\n",
       "ar.L1   0.515568  2.162200\n",
       "ar.L2  -1.473510  1.523750\n",
       "ar.L3  -1.222238  0.259056\n",
       "ma.L1  -2.236865 -0.570667\n",
       "ma.L2  -1.509877  1.600617\n",
       "ma.L3  -0.316259  1.250859\n",
       "sigma2  2.294131  2.456462"
      ]
     },
     "execution_count": 14,
     "metadata": {},
     "output_type": "execute_result"
    }
   ],
   "source": [
    "model.conf_int()"
   ]
  },
  {
   "cell_type": "code",
   "execution_count": 15,
   "id": "b0c80ec6",
   "metadata": {},
   "outputs": [
    {
     "data": {
      "text/plain": [
       "1379    107.826679\n",
       "1380    108.099341\n",
       "1381    108.303317\n",
       "1382    108.392229\n",
       "1383    108.385084\n",
       "1384    108.279519\n",
       "1385    108.095181\n",
       "1386    107.849163\n",
       "1387    107.565981\n",
       "1388    107.269430\n",
       "Name: predicted_mean, dtype: float64"
      ]
     },
     "execution_count": 15,
     "metadata": {},
     "output_type": "execute_result"
    }
   ],
   "source": [
    "a=model.forecast(10)\n",
    "a"
   ]
  },
  {
   "cell_type": "code",
   "execution_count": null,
   "id": "22dcb133",
   "metadata": {},
   "outputs": [],
   "source": []
  }
 ],
 "metadata": {
  "kernelspec": {
   "display_name": "Python 3 (ipykernel)",
   "language": "python",
   "name": "python3"
  },
  "language_info": {
   "codemirror_mode": {
    "name": "ipython",
    "version": 3
   },
   "file_extension": ".py",
   "mimetype": "text/x-python",
   "name": "python",
   "nbconvert_exporter": "python",
   "pygments_lexer": "ipython3",
   "version": "3.9.12"
  }
 },
 "nbformat": 4,
 "nbformat_minor": 5
}
